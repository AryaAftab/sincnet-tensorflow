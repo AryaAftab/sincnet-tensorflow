{
  "nbformat": 4,
  "nbformat_minor": 0,
  "metadata": {
    "colab": {
      "name": "create-python-library.ipynb",
      "provenance": [],
      "collapsed_sections": []
    },
    "kernelspec": {
      "name": "python3",
      "display_name": "Python 3"
    },
    "language_info": {
      "name": "python"
    },
    "accelerator": "GPU"
  },
  "cells": [
    {
      "cell_type": "code",
      "metadata": {
        "id": "KVTCDiox9FiQ"
      },
      "source": [
        "from IPython.display import clear_output"
      ],
      "execution_count": 1,
      "outputs": []
    },
    {
      "cell_type": "code",
      "metadata": {
        "id": "gpf4BRfw8WJ7"
      },
      "source": [
        "!pip install git+https://github.com/AryaAftab/sincnet-tensorflow.git\n",
        "clear_output()"
      ],
      "execution_count": 2,
      "outputs": []
    },
    {
      "cell_type": "code",
      "metadata": {
        "id": "O-iA4d5Fy3ww",
        "colab": {
          "base_uri": "https://localhost:8080/"
        },
        "outputId": "82ab2884-bc83-429a-ad82-bf7aaa4fb891"
      },
      "source": [
        "import numpy as np\n",
        "\n",
        "import tensorflow as tf\n",
        "from tensorflow.keras.layers import Dense, Conv1D\n",
        "from tensorflow.keras.layers import LeakyReLU, BatchNormalization, Flatten, MaxPooling1D, Input\n",
        "\n",
        "from sincnet_tensorflow import SincConv1D, LayerNorm\n",
        "\n",
        "\n",
        "out_dim = 50 #number of classes\n",
        "\n",
        "sinc_layer = SincConv1D(N_filt=64,\n",
        "                        Filt_dim=129,\n",
        "                        fs=16000,\n",
        "                        stride=16,\n",
        "                        padding=\"SAME\")\n",
        "\n",
        "\n",
        "inputs = Input((32000, 1)) \n",
        "\n",
        "x = sinc_layer(inputs)\n",
        "x = LayerNorm()(x)\n",
        "\n",
        "x = LeakyReLU(alpha=0.2)(x)\n",
        "x = MaxPooling1D(pool_size=2)(x)\n",
        "\n",
        "\n",
        "x = Conv1D(64, 3, strides=1, padding='valid')(x)\n",
        "x = BatchNormalization(momentum=0.05)(x)\n",
        "x = LeakyReLU(alpha=0.2)(x)\n",
        "x = MaxPooling1D(pool_size=2)(x)\n",
        "\n",
        "x = Conv1D(64, 3, strides=1, padding='valid')(x)\n",
        "x = BatchNormalization(momentum=0.05)(x)\n",
        "x = LeakyReLU(alpha=0.2)(x)\n",
        "x = MaxPooling1D(pool_size=2)(x)\n",
        "\n",
        "x = Conv1D(128, 3, strides=1, padding='valid')(x)\n",
        "x = BatchNormalization(momentum=0.05)(x)\n",
        "x = LeakyReLU(alpha=0.2)(x)\n",
        "x = MaxPooling1D(pool_size=2)(x)\n",
        "\n",
        "x = Conv1D(128, 3, strides=1, padding='valid')(x)\n",
        "x = BatchNormalization(momentum=0.05)(x)\n",
        "x = LeakyReLU(alpha=0.2)(x)\n",
        "x = MaxPooling1D(pool_size=2)(x)\n",
        "\n",
        "x = Flatten()(x)\n",
        "\n",
        "x = Dense(256)(x)\n",
        "x = BatchNormalization(momentum=0.05, epsilon=1e-5)(x)\n",
        "x = LeakyReLU(alpha=0.2)(x)\n",
        "\n",
        "x = Dense(256)(x)\n",
        "x = BatchNormalization(momentum=0.05, epsilon=1e-5)(x)\n",
        "x = LeakyReLU(alpha=0.2)(x)\n",
        "\n",
        "prediction = Dense(out_dim, activation='softmax')(x)\n",
        "model = tf.keras.models.Model(inputs=inputs, outputs=prediction)\n",
        "\n",
        "model.summary()"
      ],
      "execution_count": 3,
      "outputs": [
        {
          "output_type": "stream",
          "name": "stdout",
          "text": [
            "Model: \"model\"\n",
            "_________________________________________________________________\n",
            "Layer (type)                 Output Shape              Param #   \n",
            "=================================================================\n",
            "input_1 (InputLayer)         [(None, 32000, 1)]        0         \n",
            "_________________________________________________________________\n",
            "sinc_conv1d (SincConv1D)     (None, 2000, 64)          128       \n",
            "_________________________________________________________________\n",
            "layer_norm (LayerNorm)       (None, 2000, 64)          128       \n",
            "_________________________________________________________________\n",
            "leaky_re_lu (LeakyReLU)      (None, 2000, 64)          0         \n",
            "_________________________________________________________________\n",
            "max_pooling1d (MaxPooling1D) (None, 1000, 64)          0         \n",
            "_________________________________________________________________\n",
            "conv1d (Conv1D)              (None, 998, 64)           12352     \n",
            "_________________________________________________________________\n",
            "batch_normalization (BatchNo (None, 998, 64)           256       \n",
            "_________________________________________________________________\n",
            "leaky_re_lu_1 (LeakyReLU)    (None, 998, 64)           0         \n",
            "_________________________________________________________________\n",
            "max_pooling1d_1 (MaxPooling1 (None, 499, 64)           0         \n",
            "_________________________________________________________________\n",
            "conv1d_1 (Conv1D)            (None, 497, 64)           12352     \n",
            "_________________________________________________________________\n",
            "batch_normalization_1 (Batch (None, 497, 64)           256       \n",
            "_________________________________________________________________\n",
            "leaky_re_lu_2 (LeakyReLU)    (None, 497, 64)           0         \n",
            "_________________________________________________________________\n",
            "max_pooling1d_2 (MaxPooling1 (None, 248, 64)           0         \n",
            "_________________________________________________________________\n",
            "conv1d_2 (Conv1D)            (None, 246, 128)          24704     \n",
            "_________________________________________________________________\n",
            "batch_normalization_2 (Batch (None, 246, 128)          512       \n",
            "_________________________________________________________________\n",
            "leaky_re_lu_3 (LeakyReLU)    (None, 246, 128)          0         \n",
            "_________________________________________________________________\n",
            "max_pooling1d_3 (MaxPooling1 (None, 123, 128)          0         \n",
            "_________________________________________________________________\n",
            "conv1d_3 (Conv1D)            (None, 121, 128)          49280     \n",
            "_________________________________________________________________\n",
            "batch_normalization_3 (Batch (None, 121, 128)          512       \n",
            "_________________________________________________________________\n",
            "leaky_re_lu_4 (LeakyReLU)    (None, 121, 128)          0         \n",
            "_________________________________________________________________\n",
            "max_pooling1d_4 (MaxPooling1 (None, 60, 128)           0         \n",
            "_________________________________________________________________\n",
            "flatten (Flatten)            (None, 7680)              0         \n",
            "_________________________________________________________________\n",
            "dense (Dense)                (None, 256)               1966336   \n",
            "_________________________________________________________________\n",
            "batch_normalization_4 (Batch (None, 256)               1024      \n",
            "_________________________________________________________________\n",
            "leaky_re_lu_5 (LeakyReLU)    (None, 256)               0         \n",
            "_________________________________________________________________\n",
            "dense_1 (Dense)              (None, 256)               65792     \n",
            "_________________________________________________________________\n",
            "batch_normalization_5 (Batch (None, 256)               1024      \n",
            "_________________________________________________________________\n",
            "leaky_re_lu_6 (LeakyReLU)    (None, 256)               0         \n",
            "_________________________________________________________________\n",
            "dense_2 (Dense)              (None, 50)                12850     \n",
            "=================================================================\n",
            "Total params: 2,147,506\n",
            "Trainable params: 2,145,714\n",
            "Non-trainable params: 1,792\n",
            "_________________________________________________________________\n"
          ]
        }
      ]
    },
    {
      "cell_type": "code",
      "metadata": {
        "id": "3tVsmvaCy3tT",
        "colab": {
          "base_uri": "https://localhost:8080/"
        },
        "outputId": "6e6cbb46-e6dd-4877-fc12-cd24938009c7"
      },
      "source": [
        "# dummy dataset\n",
        "x_train = np.random.randn(10000, 32000, 1)\n",
        "y_train = np.random.randint(0, out_dim, 10000)\n",
        "\n",
        "\n",
        "model.compile(optimizer=tf.keras.optimizers.Adam(0.0001),\n",
        "              loss=tf.keras.losses.SparseCategoricalCrossentropy(),\n",
        "              metrics=[\"accuracy\"])\n",
        "\n",
        "history = model.fit(x_train,\n",
        "                    y_train,\n",
        "                    batch_size=64,\n",
        "                    epochs=5,\n",
        "                    validation_split=0.1)"
      ],
      "execution_count": 4,
      "outputs": [
        {
          "output_type": "stream",
          "name": "stdout",
          "text": [
            "Epoch 1/5\n",
            "141/141 [==============================] - 42s 79ms/step - loss: 4.2943 - accuracy: 0.0180 - val_loss: 4.2802 - val_accuracy: 0.0290\n",
            "Epoch 2/5\n",
            "141/141 [==============================] - 10s 71ms/step - loss: 3.2159 - accuracy: 0.2043 - val_loss: 4.3003 - val_accuracy: 0.0260\n",
            "Epoch 3/5\n",
            "141/141 [==============================] - 10s 71ms/step - loss: 2.3618 - accuracy: 0.5916 - val_loss: 4.3303 - val_accuracy: 0.0190\n",
            "Epoch 4/5\n",
            "141/141 [==============================] - 10s 71ms/step - loss: 1.6351 - accuracy: 0.8724 - val_loss: 4.4434 - val_accuracy: 0.0210\n",
            "Epoch 5/5\n",
            "141/141 [==============================] - 10s 71ms/step - loss: 1.0408 - accuracy: 0.9763 - val_loss: 4.5461 - val_accuracy: 0.0240\n"
          ]
        }
      ]
    },
    {
      "cell_type": "code",
      "metadata": {
        "colab": {
          "base_uri": "https://localhost:8080/",
          "height": 282
        },
        "id": "TE7LOlmb0iDv",
        "outputId": "019f82e6-fcb5-457d-cba8-42c77b199419"
      },
      "source": [
        "import matplotlib.pyplot as plt\n",
        "\n",
        "plt.plot(sinc_layer.B2 - sinc_layer.B1, label=\"befor train\")\n",
        "plt.plot(sinc_layer.filt_band.numpy() * sinc_layer.freq_scale, label=\"after train\")\n",
        "plt.legend()"
      ],
      "execution_count": 5,
      "outputs": [
        {
          "output_type": "execute_result",
          "data": {
            "text/plain": [
              "<matplotlib.legend.Legend at 0x7fee100872d0>"
            ]
          },
          "metadata": {},
          "execution_count": 5
        },
        {
          "output_type": "display_data",
          "data": {
            "image/png": "[encoded data removed]",
            "text/plain": [
              "<Figure size 432x288 with 1 Axes>"
            ]
          },
          "metadata": {
            "needs_background": "light"
          }
        }
      ]
    },
    {
      "cell_type": "code",
      "metadata": {
        "id": "fsWi9YXpCxdV"
      },
      "source": [
        ""
      ],
      "execution_count": null,
      "outputs": []
    }
  ]
}